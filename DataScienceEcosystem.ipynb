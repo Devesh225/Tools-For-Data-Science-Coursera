{
 "cells": [
  {
   "cell_type": "markdown",
   "id": "4a020e28-cd45-4e0e-9035-5d7bcf121641",
   "metadata": {},
   "source": [
    "# Data Science Tools and Ecosystem"
   ]
  },
  {
   "cell_type": "code",
   "execution_count": null,
   "id": "01957181-a1cb-48c8-8907-bde619a8f199",
   "metadata": {},
   "outputs": [],
   "source": [
    "## Author\n",
    "Kar Yan Choong"
   ]
  },
  {
   "cell_type": "markdown",
   "id": "aa97b5e5-ea3a-4f4c-b8ba-f96f057c8aae",
   "metadata": {},
   "source": [
    "In this notebook, Data Science Tools and Ecosystem are summarized."
   ]
  },
  {
   "cell_type": "markdown",
   "id": "895e7978-dbae-4df3-bd41-31a5edd23b96",
   "metadata": {},
   "source": [
    "**Objectives**\n",
    "*  List popular languages for Data Science\n",
    "*  List common used libraries used by Data Scientists\n",
    "*  Tabulate data science tools\n",
    "*  Evaluate arithmetic expressions"
   ]
  },
  {
   "cell_type": "markdown",
   "id": "d416c114-9552-4896-97dd-d565e5fc97f3",
   "metadata": {},
   "source": [
    "Some of the popular languages that Data Scientists use are:\n",
    "1. Python\n",
    "2. R\n",
    "3. Julia"
   ]
  },
  {
   "cell_type": "markdown",
   "id": "21e7efe3-0217-4ffe-bbcf-ce3ef97f7a25",
   "metadata": {},
   "source": [
    "Some of the commonly used libraries used by Data Scientists include:\n",
    "1. NumPy\n",
    "2. Pandas\n",
    "3. Matplotlib"
   ]
  },
  {
   "cell_type": "markdown",
   "id": "d3608ce6-6b08-4a61-978f-bc61ae9e9313",
   "metadata": {},
   "source": [
    "| Data Science Tools |\n",
    "|:--------:|\n",
    "|  Jupyter Notebook   |\n",
    "|  RStudio   |\n",
    "|  Apache Spark   |"
   ]
  },
  {
   "cell_type": "markdown",
   "id": "37b20db7-8b87-4eff-9b56-ab00afba7483",
   "metadata": {},
   "source": [
    "### Below are a few examples of evaluating arithmetic expressions in Python"
   ]
  },
  {
   "cell_type": "code",
   "execution_count": 3,
   "id": "c98dd37d-5303-4498-bc44-3f45361013f0",
   "metadata": {},
   "outputs": [
    {
     "data": {
      "text/plain": [
       "17"
      ]
     },
     "execution_count": 3,
     "metadata": {},
     "output_type": "execute_result"
    }
   ],
   "source": [
    "# This a simple arithmetic expression to mutiply then add integers\n",
    "(3*4)+5"
   ]
  },
  {
   "cell_type": "code",
   "execution_count": 4,
   "id": "d8dfba61-0a40-46d3-9dfe-b7a079a48216",
   "metadata": {},
   "outputs": [
    {
     "data": {
      "text/plain": [
       "3.3333333333333335"
      ]
     },
     "execution_count": 4,
     "metadata": {},
     "output_type": "execute_result"
    }
   ],
   "source": [
    "# This will convert 200 minutes to hours by diving by 60\n",
    "200/60"
   ]
  }
 ],
 "metadata": {
  "kernelspec": {
   "display_name": "Python 3 (ipykernel)",
   "language": "python",
   "name": "python3"
  },
  "language_info": {
   "codemirror_mode": {
    "name": "ipython",
    "version": 3
   },
   "file_extension": ".py",
   "mimetype": "text/x-python",
   "name": "python",
   "nbconvert_exporter": "python",
   "pygments_lexer": "ipython3",
   "version": "3.12.3"
  }
 },
 "nbformat": 4,
 "nbformat_minor": 5
}
